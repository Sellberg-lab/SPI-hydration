{
 "cells": [
  {
   "cell_type": "markdown",
   "metadata": {},
   "source": [
    "## SPI-Hydration _ D2O shots _ analysis\n",
    "#### Find the single D2O shots and comapre it to the TOF electron spectromter data"
   ]
  },
  {
   "cell_type": "markdown",
   "metadata": {},
   "source": [
    "#### Importing Packages"
   ]
  },
  {
   "cell_type": "code",
   "execution_count": 1,
   "metadata": {},
   "outputs": [],
   "source": [
    "# for importing files\n",
    "import sys, glob\n",
    "import os, re\n",
    "# for the plot stuff\n",
    "%matplotlib widget\n",
    "import matplotlib\n",
    "#matplotlib.use('nbagg')\n",
    "import matplotlib.pyplot as plt\n",
    "#from matplotlib import style\n",
    "## change font\n",
    "matplotlib.rcParams['font.sans-serif'] = \"Arial\"\n",
    "matplotlib.rcParams['font.family'] = \"sans-serif\"\n",
    "matplotlib.rcParams.update({'font.size': 14}) # x,y tick font\n",
    "matplotlib.rcParams.update({'font.weight': 'bold'}) # x,y tick font bold\n",
    "# For Intractive plotting\n",
    "import ipywidgets as widgets\n",
    "from ipywidgets import interactive, FloatSlider, IntSlider\n",
    "# numpy package\n",
    "import numpy as np\n",
    "## For HDF file format\n",
    "# import tables\n",
    "import h5py\n",
    "import pandas as pd "
   ]
  },
  {
   "cell_type": "markdown",
   "metadata": {},
   "source": [
    "#### Run number "
   ]
  },
  {
   "cell_type": "code",
   "execution_count": 2,
   "metadata": {},
   "outputs": [],
   "source": [
    "run_number = 54\n",
    "buffer = 'D2O'"
   ]
  },
  {
   "cell_type": "markdown",
   "metadata": {},
   "source": [
    "#### Importing HDF(.h5) file using h5py (http://docs.h5py.org/en/stable/)"
   ]
  },
  {
   "cell_type": "code",
   "execution_count": 3,
   "metadata": {},
   "outputs": [],
   "source": [
    "path_name = '/Volumes/JCPK_BACKUP/PDF_Data/LCLS_SPI-Hydration/'+buffer+'_shots'\n",
    "## https://docs.python.org/release/2.5.2/lib/typesseq-strings.html - %04d\n",
    "filename_ol2 = (path_name + '/amolq4015_r%04d_ol2.h5' % run_number)\n",
    "filename_ol3 = (path_name + '/amolq4015_r%04d_ol3.h5' % run_number)\n",
    "### h5file = h5py.File(filename,'r')  #file name as required\n",
    "h5file_ol2 = h5py.File(filename_ol2,'r') # ToF Data \n",
    "h5file_ol3 = h5py.File(filename_ol3, 'r') # pnccd Detector Data"
   ]
  },
  {
   "cell_type": "markdown",
   "metadata": {},
   "source": [
    "#### Pulse Energy"
   ]
  },
  {
   "cell_type": "code",
   "execution_count": 4,
   "metadata": {},
   "outputs": [
    {
     "data": {
      "application/vnd.jupyter.widget-view+json": {
       "model_id": "75ef046de91942dcb56a4242d27895f2",
       "version_major": 2,
       "version_minor": 0
      },
      "text/plain": [
       "FigureCanvasNbAgg()"
      ]
     },
     "metadata": {},
     "output_type": "display_data"
    }
   ],
   "source": [
    "detector_4 = h5file_ol3['entry_1/detector_4/data']  #shows how to access the data, change as required\n",
    "#\n",
    "mean = np.mean(detector_4)\n",
    "#\n",
    "plt.close(fig=1)\n",
    "fig = plt.figure(num=1, figsize=(10, 5), dpi=80, facecolor='lightgrey', edgecolor='k')\n",
    "plt.plot(detector_4, 'g.', label = 'Pulse energy', zorder=1)\n",
    "plt.hlines(mean, 0, len(detector_4), colors='r', linestyles='dashed', linewidth=3.0, label = 'Mean energy', zorder=2)\n",
    "plt.title(\"Mean energy = \"+str(round(mean,2))+\" mJ\")\n",
    "plt.xlabel('Shot number')\n",
    "plt.ylabel('Pulse energy (mJ)')\n",
    "#plt.ylim((37,39))\n",
    "plt.grid(True)\n",
    "plt.legend(loc = 4)\n",
    "plt.tight_layout()\n",
    "# plt.savefig('Jitter+Drift.png', bbox_inches = 'tight')\n",
    "plt.show()"
   ]
  },
  {
   "cell_type": "markdown",
   "metadata": {},
   "source": [
    "#### Detector 1 + ToF"
   ]
  },
  {
   "cell_type": "code",
   "execution_count": 5,
   "metadata": {},
   "outputs": [
    {
     "data": {
      "text/plain": [
       "(702, 702, 702)"
      ]
     },
     "execution_count": 5,
     "metadata": {},
     "output_type": "execute_result"
    }
   ],
   "source": [
    "det1_data = h5file_ol3['entry_1/detector_1/data']  #shows how to access the data, change as required\n",
    "#\n",
    "tof_data_y = h5file_ol2['entry_1/detector_2/data_corrected_y']\n",
    "tof_data_x = h5file_ol2['entry_1/detector_2/data_corrected_x']\n",
    "len(det1_data), len(tof_data_x), len(tof_data_y)"
   ]
  },
  {
   "cell_type": "code",
   "execution_count": 6,
   "metadata": {},
   "outputs": [
    {
     "data": {
      "application/vnd.jupyter.widget-view+json": {
       "model_id": "a6c3ba3f654f4fc0a4dd7fbe1d81c0f7",
       "version_major": 2,
       "version_minor": 0
      },
      "text/plain": [
       "IntSlider(value=0, description='shot number', max=701)"
      ]
     },
     "metadata": {},
     "output_type": "display_data"
    },
    {
     "data": {
      "application/vnd.jupyter.widget-view+json": {
       "model_id": "6e5f2c6e75b74743a89c89d206b63f2a",
       "version_major": 2,
       "version_minor": 0
      },
      "text/plain": [
       "interactive(children=(BoundedIntText(value=0, description='Shot # :', max=701), Output(layout=Layout(height='5…"
      ]
     },
     "metadata": {},
     "output_type": "display_data"
    }
   ],
   "source": [
    "plt.close(fig=2)\n",
    "def f(j):\n",
    "    fig = plt.figure(num=2, figsize=(13, 6), dpi=80, facecolor='lightgrey', edgecolor='k')\n",
    "    plt.clf()\n",
    "    plt.subplot(1,2,1)\n",
    "    plt.imshow(det1_data[j,:,:].astype(np.float32), cmap='jet')\n",
    "    plt.clim(vmin=0,vmax=300)\n",
    "    plt.title(\"All shots, shot# - \"+str(j))\n",
    "    plt.xlabel('pixels')\n",
    "    plt.ylabel('pixels')\n",
    "    plt.colorbar(fraction=0.0435, pad=0.04)\n",
    "    plt.tight_layout()\n",
    "    plt.show()\n",
    "    #\n",
    "    plt.subplot(1,2,2)\n",
    "    plt.plot(tof_data_x[j,:], tof_data_y[j,:], 'g.--')\n",
    "    plt.xlim((-0.1, 30))\n",
    "    plt.title(\"ToF spectrum , shot# - \"+str(j))\n",
    "    plt.xlabel('m/q')\n",
    "    plt.ylabel('Readout voltage (V)')\n",
    "    plt.grid(True)\n",
    "    plt.tight_layout()\n",
    "    # plt.savefig('Jitter+Drift.png', bbox_inches = 'tight')\n",
    "    plt.show()\n",
    "##\n",
    "a = widgets.BoundedIntText(min=0, max=len(det1_data)-1, step=1, description='Shot # :', disabled=False)\n",
    "b = widgets.IntSlider(min=0, max=len(det1_data)-1, step=1, continous_update = False, orientation='horizontal', description='shot number')\n",
    "# interactive_plot_c = interactive(f_c, k=widgets.IntSlider(min=0, max=len(idx_good_shots)-1, step=1, continous_update = False, orientation='horizontal', description='shot number'))\n",
    "interactive_plot = interactive(f, j = a)\n",
    "display(b)\n",
    "mylink = widgets.jslink((a, 'value'), (b, 'value'))\n",
    "interactive_plot.children[-1].layout.height = '550px'\n",
    "interactive_plot\n",
    "# interactive_plot = interactive(f, j=widgets.IntSlider(min=0, max=len(det1_data)-1, step=1, continous_update = False, orientation='horizontal', description='shot number'))\n",
    "# # interactive_plot.children[-1].layout.height = '550px'\n",
    "# interactive_plot"
   ]
  },
  {
   "cell_type": "markdown",
   "metadata": {},
   "source": [
    "#### Limit in intensity"
   ]
  },
  {
   "cell_type": "code",
   "execution_count": 7,
   "metadata": {},
   "outputs": [
    {
     "data": {
      "application/vnd.jupyter.widget-view+json": {
       "model_id": "8c0197f9b9434cebba83dfad8ab4206d",
       "version_major": 2,
       "version_minor": 0
      },
      "text/plain": [
       "FigureCanvasNbAgg()"
      ]
     },
     "metadata": {},
     "output_type": "display_data"
    }
   ],
   "source": [
    "result_pix = h5file_ol3['entry_1/result_1/hitscore_litpixel']  #shows how to access the data, change as required\n",
    "#\n",
    "# pix_lim = 5000\n",
    "pix_lim = 10000\n",
    "#\n",
    "plt.close(fig=3)\n",
    "fig = plt.figure(num=3, figsize=(10, 6), dpi=80, facecolor='lightgrey', edgecolor='k')\n",
    "plt.plot(result_pix, 'go', label = 'pixel intensity', zorder=1)\n",
    "plt.hlines(pix_lim, 0, len(result_pix), colors='r', linestyles='dashed', linewidth=3.0, label = 'Limit', zorder=2)\n",
    "plt.title(\"hitscore_litpixel\")\n",
    "plt.xlabel('Shot number')\n",
    "plt.ylabel('Pixel value')\n",
    "#plt.ylim((37,39))\n",
    "plt.grid(True)\n",
    "plt.legend()\n",
    "plt.tight_layout()\n",
    "# plt.savefig('Jitter+Drift.png', bbox_inches = 'tight')\n",
    "plt.show()"
   ]
  },
  {
   "cell_type": "code",
   "execution_count": 8,
   "metadata": {},
   "outputs": [
    {
     "data": {
      "text/plain": [
       "82"
      ]
     },
     "execution_count": 8,
     "metadata": {},
     "output_type": "execute_result"
    }
   ],
   "source": [
    "pix_idx = (np.where(result_pix[:] > pix_lim))\n",
    "idx = pix_idx[0]\n",
    "len(idx)"
   ]
  },
  {
   "cell_type": "markdown",
   "metadata": {},
   "source": [
    "#### Plot of det 1 to check for double shot"
   ]
  },
  {
   "cell_type": "code",
   "execution_count": 9,
   "metadata": {
    "slideshow": {
     "slide_type": "-"
    }
   },
   "outputs": [
    {
     "data": {
      "application/vnd.jupyter.widget-view+json": {
       "model_id": "968f9a9d0b0249ef935f09e2ed68ebf7",
       "version_major": 2,
       "version_minor": 0
      },
      "text/plain": [
       "IntSlider(value=0, description='shot number', max=81)"
      ]
     },
     "metadata": {},
     "output_type": "display_data"
    },
    {
     "data": {
      "application/vnd.jupyter.widget-view+json": {
       "model_id": "864de72a36264ce5a2c2dc3e3f78805b",
       "version_major": 2,
       "version_minor": 0
      },
      "text/plain": [
       "interactive(children=(BoundedIntText(value=0, description='Shot # :', max=81), Output(layout=Layout(height='55…"
      ]
     },
     "metadata": {},
     "output_type": "display_data"
    }
   ],
   "source": [
    "plt.close(fig=4)\n",
    "def f_g(k):\n",
    "    fig = plt.figure(num=4, figsize=(13, 6), dpi=80, facecolor='lightgrey', edgecolor='k')\n",
    "    plt.clf()\n",
    "    plt.suptitle('Check for double shots, Run # '+str(run_number), fontweight='bold')\n",
    "    plt.subplot(1,2,1)\n",
    "    plt.imshow(det1_data[idx[k],:,:].astype(np.float32), cmap='jet')\n",
    "    plt.clim(vmin=0,vmax=300)\n",
    "    plt.title(\"D2O shots #\"+str(idx[k]))\n",
    "    plt.xlabel('pixels')\n",
    "    plt.ylabel('pixels')\n",
    "    plt.colorbar()\n",
    "    plt.tight_layout()\n",
    "    # plt.savefig('Jitter+Drift.png', bbox_inches = 'tight')\n",
    "    plt.show()\n",
    "    #\n",
    "    plt.subplot(1,2,2)\n",
    "    plt.plot(tof_data_x[idx[k],:], tof_data_y[idx[k],:], 'g.--')\n",
    "    plt.xlim((-0.05, 5))\n",
    "    plt.title(\"ToF spectrum , shot# - \"+str(idx[k]))\n",
    "    plt.xlabel('m/q')\n",
    "    plt.ylabel('Readout voltage (V)')\n",
    "    plt.grid(True)\n",
    "    plt.tight_layout()\n",
    "    # plt.savefig('Jitter+Drift.png', bbox_inches = 'tight')\n",
    "    plt.show()\n",
    "##\n",
    "a = widgets.BoundedIntText(min=0, max=len(idx)-1, step=1, description='Shot # :', disabled=False)\n",
    "b = widgets.IntSlider(min=0, max=len(idx)-1, step=1, continous_update = False, orientation='horizontal', description='shot number')\n",
    "# interactive_plot_c = interactive(f_c, k=widgets.IntSlider(min=0, max=len(idx_good_shots)-1, step=1, continous_update = False, orientation='horizontal', description='shot number'))\n",
    "interactive_plot_g = interactive(f_g, k = a)\n",
    "display(b)\n",
    "mylink = widgets.jslink((a, 'value'), (b, 'value'))\n",
    "interactive_plot_g.children[-1].layout.height = '550px'\n",
    "interactive_plot_g\n",
    "# interactive_plot_g = interactive(f_g, k=widgets.IntSlider(min=0, max=len(idx)-1, step=1, continous_update = False, orientation='horizontal', description='shot number'))\n",
    "# interactive_plot_g.children[-1].layout.height = '550px'\n",
    "# interactive_plot_g"
   ]
  },
  {
   "cell_type": "markdown",
   "metadata": {},
   "source": [
    "##### Single D20 shots selected after manually checking all the shots above the threshold"
   ]
  },
  {
   "cell_type": "code",
   "execution_count": 10,
   "metadata": {},
   "outputs": [],
   "source": [
    "# ## Use for the first test\n",
    "# ## index of good shots in idx (from above)\n",
    "# idx_good_shots_idx = np.loadtxt(\"Results/Index/d2o_single_idx_run%02d.txt\" %run_number, dtype = 'int32', delimiter=\"\\n\", unpack=False)\n",
    "# idx_good_shots = idx[idx_good_shots_idx]\n",
    "# ## Save shot number for single D2O shots to a text file\n",
    "# np.savetxt(\"Results/Index/d2o_single_run%02d.txt\" %run_number, idx_good_shots, fmt='%4d', delimiter=' ', newline='\\n')\n",
    "# idx_good_shots[0], len(idx_good_shots)"
   ]
  },
  {
   "cell_type": "markdown",
   "metadata": {},
   "source": [
    "##### Load the single goos shots indices"
   ]
  },
  {
   "cell_type": "code",
   "execution_count": 11,
   "metadata": {},
   "outputs": [
    {
     "data": {
      "text/plain": [
       "(1, 69)"
      ]
     },
     "execution_count": 11,
     "metadata": {},
     "output_type": "execute_result"
    }
   ],
   "source": [
    "idx_good_shots =  np.loadtxt(\"/Users/jayanathkoliyadu/OneDrive - Universidade de Lisboa/ACADEMICS/PDF/RESEARCH/Data_Analysis/LCLS_SPI-Hydration_2017/Analysis/Results/Index/d2o_single_run%02d.txt\" %run_number, dtype = 'int32', delimiter=\"\\n\", unpack=False)\n",
    "##\n",
    "idx_good_shots[0], len(idx_good_shots)"
   ]
  },
  {
   "cell_type": "markdown",
   "metadata": {},
   "source": [
    "#### Plot detector + ToF (good shots only !)"
   ]
  },
  {
   "cell_type": "code",
   "execution_count": 12,
   "metadata": {},
   "outputs": [
    {
     "data": {
      "application/vnd.jupyter.widget-view+json": {
       "model_id": "567f661236e74441a0d8d5e4f07632a2",
       "version_major": 2,
       "version_minor": 0
      },
      "text/plain": [
       "IntSlider(value=0, description='shot number', max=68)"
      ]
     },
     "metadata": {},
     "output_type": "display_data"
    },
    {
     "data": {
      "application/vnd.jupyter.widget-view+json": {
       "model_id": "376e3cbd24044c75b0dfeacb479019a3",
       "version_major": 2,
       "version_minor": 0
      },
      "text/plain": [
       "interactive(children=(BoundedIntText(value=0, description='Shot # :', max=68), Output(layout=Layout(height='55…"
      ]
     },
     "metadata": {},
     "output_type": "display_data"
    }
   ],
   "source": [
    "plt.close(fig=5)\n",
    "# combined - c\n",
    "def f_c(k):\n",
    "    fig = plt.figure(num=5, figsize=(13, 6), dpi=80, facecolor='lightgrey', edgecolor='k')\n",
    "    plt.suptitle('Run # '+str(run_number), fontweight='bold')\n",
    "    plt.clf()\n",
    "    plt.suptitle('Run # '+str(run_number) + ' - '+ buffer, fontweight='bold')\n",
    "    plt.subplot(1,2,1)\n",
    "    plt.imshow(det1_data[idx_good_shots[k],:,:].astype(np.float32), cmap='jet')\n",
    "    plt.clim(vmin=0,vmax=300)\n",
    "    plt.title(\"Single D2O shot # - \"+str(idx_good_shots[k]))\n",
    "    plt.xlabel('pixels')\n",
    "    plt.ylabel('pixels')\n",
    "    plt.colorbar(fraction=0.0435, pad=0.04)\n",
    "    plt.tight_layout()\n",
    "    # plt.savefig('Jitter+Drift.png', bbox_inches = 'tight')\n",
    "    plt.show()\n",
    "    plt.subplot(1,2,2)\n",
    "    plt.plot(tof_data_x[idx_good_shots[k],:], tof_data_y[idx_good_shots[k],:], 'g.--')\n",
    "    plt.xlim((-0.1,5))\n",
    "    plt.title(\"ToF spectrum shot # - \"+str(idx_good_shots[k]))\n",
    "    plt.xlabel('m/q')\n",
    "    plt.ylabel('Readout voltage (V)')\n",
    "    plt.grid(True)\n",
    "    plt.tight_layout()\n",
    "    plt.show()\n",
    "#     plt.savefig('Jitter+Drift.png', bbox_inches = 'tight')\n",
    "##\n",
    "a = widgets.BoundedIntText(min=0, max=len(idx_good_shots)-1, step=1, description='Shot # :', disabled=False)\n",
    "b = widgets.IntSlider(min=0, max=len(idx_good_shots)-1, step=1, continous_update = False, orientation='horizontal', description='shot number')\n",
    "# interactive_plot_c = interactive(f_c, k=widgets.IntSlider(min=0, max=len(idx_good_shots)-1, step=1, continous_update = False, orientation='horizontal', description='shot number'))\n",
    "interactive_plot_c = interactive(f_c, k = a)\n",
    "display(b)\n",
    "mylink = widgets.jslink((a, 'value'), (b, 'value'))\n",
    "interactive_plot_c.children[-1].layout.height = '550px'\n",
    "interactive_plot_c"
   ]
  },
  {
   "cell_type": "markdown",
   "metadata": {},
   "source": [
    "#### H+, D+ Peak Analysis"
   ]
  },
  {
   "cell_type": "code",
   "execution_count": 13,
   "metadata": {},
   "outputs": [],
   "source": [
    "## From conf_preproc_at_slac.py\n",
    "## H+\n",
    "h_peak_start = 0.90\n",
    "h_peak_end = 1.1\n",
    "## D+\n",
    "d_peak_start = 1.8\n",
    "d_peak_end = 2.1\n",
    "#\n",
    "h_peak_sum  = np.zeros((len(idx_good_shots)))\n",
    "d_peak_sum  = np.zeros((len(idx_good_shots)))\n",
    "#\n",
    "for l in range(0,len(idx_good_shots),1):\n",
    "    ## H+ peak\n",
    "    h_peak_index = np.where((tof_data_x[idx_good_shots[l],:] >= h_peak_start) & (tof_data_x[idx_good_shots[l],:] <= h_peak_end))\n",
    "    h_peak = tof_data_y[idx_good_shots[l], np.min(h_peak_index):np.max(h_peak_index)]\n",
    "    h_peak_sum[l] = np.sum(h_peak)\n",
    "    # ## D+ peak\n",
    "    d_peak_index = np.where((tof_data_x[idx_good_shots[l],:] >= d_peak_start) & (tof_data_x[idx_good_shots[l],:] <= d_peak_end))\n",
    "    d_peak = tof_data_y[idx_good_shots[l], np.min(d_peak_index):np.max(d_peak_index)]\n",
    "    d_peak_sum[l] = np.sum(d_peak)"
   ]
  },
  {
   "cell_type": "code",
   "execution_count": 14,
   "metadata": {},
   "outputs": [
    {
     "data": {
      "application/vnd.jupyter.widget-view+json": {
       "model_id": "7bfafb458a18471e93c98800dc608a36",
       "version_major": 2,
       "version_minor": 0
      },
      "text/plain": [
       "FigureCanvasNbAgg()"
      ]
     },
     "metadata": {},
     "output_type": "display_data"
    }
   ],
   "source": [
    "## number fraction D+/H+ \n",
    "d_h = d_peak_sum/h_peak_sum\n",
    "mean_dh = np.mean(d_h)\n",
    "## Save number fraction for single D2O shots to a text file\n",
    "# np.savetxt(\"Results/num_fraction_run%02d.txt\" %run_number, d_h, fmt='%4f', delimiter=' ', newline='\\n')\n",
    "#\n",
    "plt.close(fig=6)\n",
    "fig = plt.figure(num=6, figsize=(10, 6), dpi=80, facecolor='lightgrey', edgecolor='k')\n",
    "plt.plot(d_h, 'go', label = 'D+/H+', zorder=1)\n",
    "plt.hlines(mean_dh, 0, len(d_h), colors='r', linestyles='dotted', linewidth=3.0, label = 'Mean = '+str(round(mean_dh,2)), zorder=2)\n",
    "plt.title('Number fraction D+/H+, Run #'+ str(run_number) + ' - '+ buffer, fontweight='bold')\n",
    "plt.xlabel('Shot number')\n",
    "plt.ylabel('Number fraction D+/H+')\n",
    "# plt.ylim((0,4))\n",
    "plt.grid(True)\n",
    "plt.legend()\n",
    "plt.tight_layout()\n",
    "# plt.savefig('Jitter+Drift.png', bbox_inches = 'tight')\n",
    "plt.show()"
   ]
  },
  {
   "cell_type": "markdown",
   "metadata": {},
   "source": [
    "#### Save analyzed results"
   ]
  },
  {
   "cell_type": "code",
   "execution_count": 15,
   "metadata": {},
   "outputs": [],
   "source": [
    "# df = pd.DataFrame({'run_number': run_number, 'buffer': buffer, 'idx_good_shots': idx_good_shots, 'number_fraction': d_h, 'mean_d/h': mean_dh})\n",
    "# ## saving the dataframe \n",
    "# df.to_csv('Results/analysis_'+buffer+'_run#%02d.csv' %run_number) "
   ]
  },
  {
   "cell_type": "markdown",
   "metadata": {},
   "source": [
    "##### save as HDF"
   ]
  },
  {
   "cell_type": "code",
   "execution_count": 16,
   "metadata": {},
   "outputs": [],
   "source": [
    "# hf = h5py.File('Results/analysis_'+buffer+'_run#%02d.h5' %run_number, 'w')\n",
    "# hf.create_dataset('run_number', data = run_number)\n",
    "# hf.create_dataset('buffer', data = buffer)\n",
    "# hf.create_dataset('idx_good_shots', data=idx_good_shots)\n",
    "# hf.create_dataset('pulse_energy', data = np.asarray(detector_4)[idx_good_shots])\n",
    "# hf.create_dataset('diff_pat', data = det1_data[np.sort(idx_good_shots),:,:])\n",
    "# hf.create_dataset('tof_x', data = tof_data_x[np.sort(idx_good_shots),:])\n",
    "# hf.create_dataset('tof_y', data = tof_data_y[np.sort(idx_good_shots),:])\n",
    "# hf.create_dataset('number_fraction', data=d_h)\n",
    "# hf.create_dataset('mean_number_fraction', data=mean_dh)\n",
    "# hf.close()"
   ]
  },
  {
   "cell_type": "code",
   "execution_count": null,
   "metadata": {},
   "outputs": [],
   "source": []
  }
 ],
 "metadata": {
  "kernelspec": {
   "display_name": "Python 3",
   "language": "python",
   "name": "python3"
  },
  "language_info": {
   "codemirror_mode": {
    "name": "ipython",
    "version": 3
   },
   "file_extension": ".py",
   "mimetype": "text/x-python",
   "name": "python",
   "nbconvert_exporter": "python",
   "pygments_lexer": "ipython3",
   "version": "3.6.7"
  }
 },
 "nbformat": 4,
 "nbformat_minor": 2
}
